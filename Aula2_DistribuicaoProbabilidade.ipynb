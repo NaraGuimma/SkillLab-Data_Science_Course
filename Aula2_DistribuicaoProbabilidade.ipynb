{
  "nbformat": 4,
  "nbformat_minor": 0,
  "metadata": {
    "colab": {
      "name": "Aula2-DistribuicaoProbabilidade.ipynb",
      "provenance": [],
      "authorship_tag": "ABX9TyOInvq10NRNkbUGqsCXFjvS",
      "include_colab_link": true
    },
    "kernelspec": {
      "name": "python3",
      "display_name": "Python 3"
    }
  },
  "cells": [
    {
      "cell_type": "markdown",
      "metadata": {
        "id": "view-in-github",
        "colab_type": "text"
      },
      "source": [
        "<a href=\"https://colab.research.google.com/github/NaraGuimma/SkillLab-Data_Science_Course/blob/main/Aula2_DistribuicaoProbabilidade.ipynb\" target=\"_parent\"><img src=\"https://colab.research.google.com/assets/colab-badge.svg\" alt=\"Open In Colab\"/></a>"
      ]
    },
    {
      "cell_type": "code",
      "metadata": {
        "id": "M5YsJOQG4DWG"
      },
      "source": [
        "import random"
      ],
      "execution_count": 1,
      "outputs": []
    },
    {
      "cell_type": "code",
      "metadata": {
        "colab": {
          "base_uri": "https://localhost:8080/"
        },
        "id": "QXw4eZmE4Nrb",
        "outputId": "04c1d3e4-b138-4697-df58-9992a7376aa1"
      },
      "source": [
        "list = []\n",
        "for i in range(100):\n",
        "  p = random.uniform(0,1)\n",
        "  list.append(p)\n",
        "for i in range(len(list)):\n",
        "  print(i+1, ' - ', list[i]prob = random.uniform(0,1))prob = random.uniform(0,1)"
      ],
      "execution_count": 9,
      "outputs": [
        {
          "output_type": "stream",
          "text": [
            "1  -  0.14634315260191777\n",
            "2  -  0.5081025886724646\n",
            "3  -  0.7279699582212541\n",
            "4  -  0.7016455588460677\n",
            "5  -  0.7252178128121871\n",
            "6  -  0.32379743514996095\n",
            "7  -  0.26548673156755875\n",
            "8  -  0.6105183781019475\n",
            "9  -  0.06004295220622802\n",
            "10  -  0.9020597879674032\n",
            "11  -  0.09244236244151982\n",
            "12  -  0.9733360358456168\n",
            "13  -  0.7021717246526712\n",
            "14  -  0.6226414701287009\n",
            "15  -  0.5242510237763743\n",
            "16  -  0.6149087002648292\n",
            "17  -  0.49918519989300136\n",
            "18  -  0.34573220019324125\n",
            "19  -  0.5693377280347293\n",
            "20  -  0.9858798395584415\n",
            "21  -  0.48104839712817016\n",
            "22  -  0.3012831436225698\n",
            "23  -  0.37327126257188714\n",
            "24  -  0.7419586270503585\n",
            "25  -  0.8052556065595091\n",
            "26  -  0.09883932835243525\n",
            "27  -  0.25797918176089807\n",
            "28  -  0.44795762620041324\n",
            "29  -  0.039837566538762914\n",
            "30  -  0.3312202949096371\n",
            "31  -  0.42203759970163357\n",
            "32  -  0.7825701993229982\n",
            "33  -  0.2812666631243891\n",
            "34  -  0.7410382433197004\n",
            "35  -  0.1532265197168622\n",
            "36  -  0.03283132183237836\n",
            "37  -  0.43289732545702175\n",
            "38  -  0.40149660685929855\n",
            "39  -  0.6869269432885288\n",
            "40  -  0.5995988123850218\n",
            "41  -  0.3353621849096805\n",
            "42  -  0.6865454440830886\n",
            "43  -  0.18876074309575663\n",
            "44  -  0.9623519829646381\n",
            "45  -  0.6113116087706396\n",
            "46  -  0.6098091913984081\n",
            "47  -  0.9748312175745079\n",
            "48  -  0.24141370927980055\n",
            "49  -  0.06994983379663533\n",
            "50  -  0.7755098967491012\n",
            "51  -  0.5875878064572518\n",
            "52  -  0.26766458326676634\n",
            "53  -  0.656124368640356\n",
            "54  -  0.87559757633135\n",
            "55  -  0.4192606662960848\n",
            "56  -  0.26086773498828975\n",
            "57  -  0.12311778083759095\n",
            "58  -  0.8428924493470171\n",
            "59  -  0.9728258719770179\n",
            "60  -  0.14510597225717126\n",
            "61  -  0.6961726927942647\n",
            "62  -  0.022636280997329283\n",
            "63  -  0.5773899642028297\n",
            "64  -  0.33606541451566285\n",
            "65  -  0.272931232942481\n",
            "66  -  0.2977977683449229\n",
            "67  -  0.5996849866325632\n",
            "68  -  0.818731206937515\n",
            "69  -  0.7809663941486887\n",
            "70  -  0.8289801450956332\n",
            "71  -  0.9064456891545865\n",
            "72  -  0.3242747340641676\n",
            "73  -  0.21386264714147651\n",
            "74  -  0.3716111466764911\n",
            "75  -  0.6482133607874897\n",
            "76  -  0.987900600243757\n",
            "77  -  0.6009063583244518\n",
            "78  -  0.8227838442155573\n",
            "79  -  0.17840433679830547\n",
            "80  -  0.8788249840495798\n",
            "81  -  0.24730101502647983\n",
            "82  -  0.26773251348879756\n",
            "83  -  0.16250572346605807\n",
            "84  -  0.4003490513687833\n",
            "85  -  0.709670572271544\n",
            "86  -  0.09982709232939013\n",
            "87  -  0.27418554687951835\n",
            "88  -  0.6795734177566648\n",
            "89  -  0.7934097377390836\n",
            "90  -  0.48911355152457503\n",
            "91  -  0.6281816947623734\n",
            "92  -  0.9964977724432045\n",
            "93  -  0.7204079849367445\n",
            "94  -  0.9642173019865505\n",
            "95  -  0.6347617827617132\n",
            "96  -  0.18601028413704812\n",
            "97  -  0.8606279005368562\n",
            "98  -  0.6090446969121918\n",
            "99  -  0.7133831413746078\n",
            "100  -  0.818603496245114\n"
          ],
          "name": "stdout"
        }
      ]
    },
    {
      "cell_type": "code",
      "metadata": {
        "id": "CZlBTc0u4vbd"
      },
      "source": [
        "numeros_sorteados = []\n",
        "\n",
        "for i in range(100):\n",
        "  numeros_sorteados.append(random.randint(1,6))"
      ],
      "execution_count": 27,
      "outputs": []
    },
    {
      "cell_type": "code",
      "metadata": {
        "colab": {
          "base_uri": "https://localhost:8080/",
          "height": 265
        },
        "id": "h-axmdaNCBVy",
        "outputId": "26c2fb15-ac73-4c3d-a787-6b1e336f4b48"
      },
      "source": [
        "import matplotlib.pyplot as plt\n",
        "import numpy as np\n",
        "align='left')align='left')\n",
        "plt.xticks(range(4))\n",
        "plt.show()\n",
        "plt.xticks(range(4))\n",
        "plt.show()\n",
        "bins = [1,2,3,4,5,6,7]align='left')align='left')align='left')\n",
        "plt.xticks(range(4))\n",
        "plt.show()\n",
        "plt.xticks(range(4))\n",
        "plt.show()\n",
        "plt.xticks(range(4))\n",
        "plt.show()\n",
        "plt.hist(numeros_sorteados, density = True, \n",
        "         bins=bins ,align='left')\n",
        "plt.xticks(range(7))\n",
        "plt.ylabel('Probability')\n",
        "plt.show();"
      ],
      "execution_count": 28,
      "outputs": [
        {
          "output_type": "display_data",
          "data": {
            "image/png": "[encoded data removed]",
            "text/plain": [
              "<Figure size 432x288 with 1 Axes>"
            ]
          },
          "metadata": {
            "tags": [],
            "needs_background": "light"
          }
        }
      ]
    },
    {
      "cell_type": "code",
      "metadata": {
        "id": "6ODrOuUCDYCb"
      },
      "source": [
        "from scipy.stats import binom"
      ],
      "execution_count": 29,
      "outputs": []
    },
    {
      "cell_type": "code",
      "metadata": {
        "colab": {
          "base_uri": "https://localhost:8080/"
        },
        "id": "5tWEdHQbOlNw",
        "outputId": "d2ffbfba-ba06-46be-a293-65821e1d23f7"
      },
      "source": [
        "binom.pmf(3, 16, 1/6)"
      ],
      "execution_count": 30,
      "outputs": [
        {
          "output_type": "execute_result",
          "data": {
            "text/plain": [
              "0.2423137603371325"
            ]
          },
          "metadata": {
            "tags": []
          },
          "execution_count": 30
        }
      ]
    },
    {
      "cell_type": "code",
      "metadata": {
        "id": "PWeO7MWJOsBI"
      },
      "source": [
        ""
      ],
      "execution_count": null,
      "outputs": []
    }
  ]
}