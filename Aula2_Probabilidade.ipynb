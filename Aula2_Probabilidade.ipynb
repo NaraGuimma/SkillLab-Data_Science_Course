{
  "nbformat": 4,
  "nbformat_minor": 0,
  "metadata": {
    "colab": {
      "name": "Aula2-Probabilidade.ipynb",
      "provenance": [],
      "authorship_tag": "ABX9TyO1up6Kzm0t3y5wCoZ7of+1",
      "include_colab_link": true
    },
    "kernelspec": {
      "name": "python3",
      "display_name": "Python 3"
    }
  },
  "cells": [
    {
      "cell_type": "markdown",
      "metadata": {
        "id": "view-in-github",
        "colab_type": "text"
      },
      "source": [
        "<a href=\"https://colab.research.google.com/github/NaraGuimma/SkillsLab-Data_Science_Course/blob/main/Aula2_Probabilidade.ipynb\" target=\"_parent\"><img src=\"https://colab.research.google.com/assets/colab-badge.svg\" alt=\"Open In Colab\"/></a>"
      ]
    },
    {
      "cell_type": "markdown",
      "metadata": {
        "id": "rxnsZQQVH-l4"
      },
      "source": [
        "**1 - Cálculo  da probabilidade**"
      ]
    },
    {
      "cell_type": "code",
      "metadata": {
        "id": "iUfrJ8g8828J"
      },
      "source": [
        "import math\n",
        "import random\n",
        "import numpy as np"
      ],
      "execution_count": null,
      "outputs": []
    },
    {
      "cell_type": "markdown",
      "metadata": {
        "id": "iMcNHGcVIxzB"
      },
      "source": [
        "a) Escolher o número que deve ser escolhido"
      ]
    },
    {
      "cell_type": "code",
      "metadata": {
        "colab": {
          "base_uri": "https://localhost:8080/"
        },
        "id": "eko5GqR_GdNK",
        "outputId": "d681db79-283f-4227-b6bd-487fbbe04baf"
      },
      "source": [
        "evento = random.randint(1,6)\n",
        "evento"
      ],
      "execution_count": null,
      "outputs": [
        {
          "output_type": "execute_result",
          "data": {
            "text/plain": [
              "4"
            ]
          },
          "metadata": {
            "tags": []
          },
          "execution_count": 12
        }
      ]
    },
    {
      "cell_type": "markdown",
      "metadata": {
        "id": "f-lUfjYOI7l7"
      },
      "source": [
        "b) Probabilidade do lançamento de um dado com um valor especíífico"
      ]
    },
    {
      "cell_type": "code",
      "metadata": {
        "colab": {
          "base_uri": "https://localhost:8080/"
        },
        "id": "VowkIPCSJCRr",
        "outputId": "2527b582-1c69-4165-cba8-323f22240b77"
      },
      "source": [
        "p = 1/6\n",
        "p"
      ],
      "execution_count": null,
      "outputs": [
        {
          "output_type": "execute_result",
          "data": {
            "text/plain": [
              "0.16666666666666666"
            ]
          },
          "metadata": {
            "tags": []
          },
          "execution_count": 15
        }
      ]
    },
    {
      "cell_type": "markdown",
      "metadata": {
        "id": "oje71u_NJHIl"
      },
      "source": [
        "c) Cálculo de uma probabilidade aleatória"
      ]
    },
    {
      "cell_type": "code",
      "metadata": {
        "colab": {
          "base_uri": "https://localhost:8080/"
        },
        "id": "aVkyzGJSGzOU",
        "outputId": "7c4c4c3b-098a-4f92-e783-3fa041fc18f5"
      },
      "source": [
        "prob = random.uniform(0,1)\n",
        "prob"
      ],
      "execution_count": null,
      "outputs": [
        {
          "output_type": "execute_result",
          "data": {
            "text/plain": [
              "0.35755167880444894"
            ]
          },
          "metadata": {
            "tags": []
          },
          "execution_count": 14
        }
      ]
    },
    {
      "cell_type": "markdown",
      "metadata": {
        "id": "3wRCfQz6Nfzp"
      },
      "source": [
        "**2 - Cálculo da Permutação**"
      ]
    },
    {
      "cell_type": "code",
      "metadata": {
        "colab": {
          "base_uri": "https://localhost:8080/"
        },
        "id": "wiPw7ngLHC8y",
        "outputId": "c7881715-ebf8-4683-8113-52a8651d7b28"
      },
      "source": [
        "n = int(input(\"Entre com o número total de eventos: \"))"
      ],
      "execution_count": null,
      "outputs": [
        {
          "output_type": "stream",
          "text": [
            "Entre com o número total de eventos: 10\n"
          ],
          "name": "stdout"
        }
      ]
    },
    {
      "cell_type": "code",
      "metadata": {
        "colab": {
          "base_uri": "https://localhost:8080/"
        },
        "id": "KRuxiO0JN5GI",
        "outputId": "533afafc-7287-46a5-a2a7-0fd1573e8c99"
      },
      "source": [
        "n"
      ],
      "execution_count": null,
      "outputs": [
        {
          "output_type": "execute_result",
          "data": {
            "text/plain": [
              "10"
            ]
          },
          "metadata": {
            "tags": []
          },
          "execution_count": 48
        }
      ]
    },
    {
      "cell_type": "code",
      "metadata": {
        "colab": {
          "base_uri": "https://localhost:8080/"
        },
        "id": "jk6KQoeKN98A",
        "outputId": "c02b08c0-c0fd-42e1-a31d-56de9773b052"
      },
      "source": [
        "r = int(input(\"Entre com o número de eventos selecionados: \"))"
      ],
      "execution_count": null,
      "outputs": [
        {
          "output_type": "stream",
          "text": [
            "Entre com o número de eventos selecionados: 5\n"
          ],
          "name": "stdout"
        }
      ]
    },
    {
      "cell_type": "code",
      "metadata": {
        "colab": {
          "base_uri": "https://localhost:8080/"
        },
        "id": "prChaRpgOGYj",
        "outputId": "a50b6ff7-b328-4b32-abbc-193050c41b1f"
      },
      "source": [
        "r"
      ],
      "execution_count": null,
      "outputs": [
        {
          "output_type": "execute_result",
          "data": {
            "text/plain": [
              "5"
            ]
          },
          "metadata": {
            "tags": []
          },
          "execution_count": 50
        }
      ]
    },
    {
      "cell_type": "code",
      "metadata": {
        "id": "FGC4wjyaOITb"
      },
      "source": [
        "def fat_num():\n",
        "  fat_num = 1\n",
        "  for i in range(1,n+1):\n",
        "    fat_num = fat_num * i\n",
        "\n",
        "  return fat_num\n",
        "\n"
      ],
      "execution_count": null,
      "outputs": []
    },
    {
      "cell_type": "code",
      "metadata": {
        "colab": {
          "base_uri": "https://localhost:8080/"
        },
        "id": "CXka_tB6OpR5",
        "outputId": "885bba51-d244-4d05-9ae5-f74165ca19d4"
      },
      "source": [
        "fat_num()"
      ],
      "execution_count": null,
      "outputs": [
        {
          "output_type": "execute_result",
          "data": {
            "text/plain": [
              "3628800"
            ]
          },
          "metadata": {
            "tags": []
          },
          "execution_count": 54
        }
      ]
    },
    {
      "cell_type": "code",
      "metadata": {
        "id": "GPnqvQCnOsli"
      },
      "source": [
        "def fat_den():\n",
        "  fat_den = 1\n",
        "  new = n - r\n",
        "  for i in range(1,new+1):\n",
        "    fat_den = fat_den * i\n",
        "\n",
        "  return fat_den\n"
      ],
      "execution_count": null,
      "outputs": []
    },
    {
      "cell_type": "code",
      "metadata": {
        "colab": {
          "base_uri": "https://localhost:8080/"
        },
        "id": "QnBEO0BgPc-O",
        "outputId": "db5db32d-ee20-4607-9378-a71618b21b25"
      },
      "source": [
        "fat_den()"
      ],
      "execution_count": null,
      "outputs": [
        {
          "output_type": "execute_result",
          "data": {
            "text/plain": [
              "120"
            ]
          },
          "metadata": {
            "tags": []
          },
          "execution_count": 57
        }
      ]
    },
    {
      "cell_type": "code",
      "metadata": {
        "colab": {
          "base_uri": "https://localhost:8080/"
        },
        "id": "bdWL0CkoPeok",
        "outputId": "c93132e6-d209-4749-8df7-c3ba641bf9fb"
      },
      "source": [
        "prob = fat_num()/fat_den()\n",
        "prob"
      ],
      "execution_count": null,
      "outputs": [
        {
          "output_type": "execute_result",
          "data": {
            "text/plain": [
              "30240.0"
            ]
          },
          "metadata": {
            "tags": []
          },
          "execution_count": 58
        }
      ]
    },
    {
      "cell_type": "markdown",
      "metadata": {
        "id": "6n5LlBrpQPWk"
      },
      "source": [
        "- Alternativa usando o factorial"
      ]
    },
    {
      "cell_type": "code",
      "metadata": {
        "colab": {
          "base_uri": "https://localhost:8080/"
        },
        "id": "FtzuapGzPwRd",
        "outputId": "4d5bf388-3866-4615-83be-cbad37fa0d33"
      },
      "source": [
        "math.factorial(n)/math.factorial(n-r)"
      ],
      "execution_count": null,
      "outputs": [
        {
          "output_type": "execute_result",
          "data": {
            "text/plain": [
              "30240.0"
            ]
          },
          "metadata": {
            "tags": []
          },
          "execution_count": 59
        }
      ]
    },
    {
      "cell_type": "code",
      "metadata": {
        "id": "2afp-hlbQZ0_"
      },
      "source": [
        ""
      ],
      "execution_count": null,
      "outputs": []
    }
  ]
}