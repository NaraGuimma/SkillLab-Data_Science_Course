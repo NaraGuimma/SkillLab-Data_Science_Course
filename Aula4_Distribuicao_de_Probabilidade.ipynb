{
  "nbformat": 4,
  "nbformat_minor": 0,
  "metadata": {
    "colab": {
      "name": "Aula4-Distribuicao-de-Probabilidade.ipynb",
      "provenance": [],
      "authorship_tag": "ABX9TyOYlIUUMNAa3PshnvFZ0jIc",
      "include_colab_link": true
    },
    "kernelspec": {
      "name": "python3",
      "display_name": "Python 3"
    }
  },
  "cells": [
    {
      "cell_type": "markdown",
      "metadata": {
        "id": "view-in-github",
        "colab_type": "text"
      },
      "source": [
        "<a href=\"https://colab.research.google.com/github/NaraGuimma/SkillLab-Data_Science_Course/blob/main/Aula4_Distribuicao_de_Probabilidade.ipynb\" target=\"_parent\"><img src=\"https://colab.research.google.com/assets/colab-badge.svg\" alt=\"Open In Colab\"/></a>"
      ]
    },
    {
      "cell_type": "markdown",
      "metadata": {
        "id": "WAsopT8b2RrO"
      },
      "source": [
        "Cálculo do z-score"
      ]
    },
    {
      "cell_type": "code",
      "metadata": {
        "id": "Riw0GAv4-MRT"
      },
      "source": [
        "from scipy import stats"
      ],
      "execution_count": 10,
      "outputs": []
    },
    {
      "cell_type": "code",
      "metadata": {
        "id": "p_3ZdSrA3MVN"
      },
      "source": [
        "def zScore(x, mi, desvio):\n",
        "  z = (x - mi)/desvio\n",
        "  return z"
      ],
      "execution_count": 7,
      "outputs": []
    },
    {
      "cell_type": "code",
      "metadata": {
        "id": "Mr18h4PY2K9u"
      },
      "source": [
        "mi = 76\n",
        "desvio = 6"
      ],
      "execution_count": 2,
      "outputs": []
    },
    {
      "cell_type": "code",
      "metadata": {
        "colab": {
          "base_uri": "https://localhost:8080/"
        },
        "id": "-h7qX27U2aHo",
        "outputId": "8b13582d-1dba-4d55-baea-fc2284aa9d05"
      },
      "source": [
        "x = int(input(\"Digite o valor de x que quer saber\"))\n",
        "x"
      ],
      "execution_count": 3,
      "outputs": [
        {
          "output_type": "stream",
          "text": [
            "Digite o valor de x que quer saber7\n"
          ],
          "name": "stdout"
        },
        {
          "output_type": "execute_result",
          "data": {
            "text/plain": [
              "7"
            ]
          },
          "metadata": {
            "tags": []
          },
          "execution_count": 3
        }
      ]
    },
    {
      "cell_type": "code",
      "metadata": {
        "colab": {
          "base_uri": "https://localhost:8080/"
        },
        "id": "qVb9SDCw23en",
        "outputId": "0e2c37ef-4bdb-423e-c089-d64749cec210"
      },
      "source": [
        "print(zScore(x, mi, desvio))"
      ],
      "execution_count": 8,
      "outputs": [
        {
          "output_type": "stream",
          "text": [
            "-11.5\n"
          ],
          "name": "stdout"
        }
      ]
    },
    {
      "cell_type": "code",
      "metadata": {
        "id": "rwbA6c0e3CK0"
      },
      "source": [
        "zScore = zScore(31.68, 30, 6)"
      ],
      "execution_count": 11,
      "outputs": []
    },
    {
      "cell_type": "markdown",
      "metadata": {
        "id": "Q8Yvm-J1_swz"
      },
      "source": [
        "Cálculo da densidade de probabilidade acumulativa"
      ]
    },
    {
      "cell_type": "code",
      "metadata": {
        "colab": {
          "base_uri": "https://localhost:8080/"
        },
        "id": "2faouVFA7bMJ",
        "outputId": "0c5dbde8-453c-4ceb-9a7a-f54fcc59eb9a"
      },
      "source": [
        "print(stats.norm.cdf(zScore))"
      ],
      "execution_count": 12,
      "outputs": [
        {
          "output_type": "stream",
          "text": [
            "0.6102612475557972\n"
          ],
          "name": "stdout"
        }
      ]
    },
    {
      "cell_type": "markdown",
      "metadata": {
        "id": "uIYyQPjb_3dG"
      },
      "source": [
        "Valor a direita da densidade de probabilidade acumulativa"
      ]
    },
    {
      "cell_type": "code",
      "metadata": {
        "colab": {
          "base_uri": "https://localhost:8080/"
        },
        "id": "mA7hoUdi_fdJ",
        "outputId": "f23a1709-4cd8-4903-ed30-8f15ec28a220"
      },
      "source": [
        "print(1-stats.norm.cdf(zScore))"
      ],
      "execution_count": 14,
      "outputs": [
        {
          "output_type": "stream",
          "text": [
            "0.38973875244420275\n"
          ],
          "name": "stdout"
        }
      ]
    },
    {
      "cell_type": "markdown",
      "metadata": {
        "id": "3uivU9TnHSxE"
      },
      "source": [
        "Partindo da probabilidade acumulada, encontrar o valor de z"
      ]
    },
    {
      "cell_type": "code",
      "metadata": {
        "id": "GU4-erP7AByy"
      },
      "source": [
        "z = stats.norm.ppf(0.5636)"
      ],
      "execution_count": 19,
      "outputs": []
    },
    {
      "cell_type": "code",
      "metadata": {
        "id": "YUvIbPafHPoE"
      },
      "source": [
        "def calcX(z, mi, desv):\n",
        "  return(z*desv + mi)"
      ],
      "execution_count": 20,
      "outputs": []
    },
    {
      "cell_type": "code",
      "metadata": {
        "colab": {
          "base_uri": "https://localhost:8080/"
        },
        "id": "cOyFG8YUHi8_",
        "outputId": "7d3126d6-1ff9-4058-90cf-bd45d215bf3d"
      },
      "source": [
        "x = calcX(z, 30, 6)\n",
        "print(\"%.2f\" % x)"
      ],
      "execution_count": 23,
      "outputs": [
        {
          "output_type": "stream",
          "text": [
            "30.96\n"
          ],
          "name": "stdout"
        }
      ]
    },
    {
      "cell_type": "code",
      "metadata": {
        "id": "IM3ay-U5Hqj1"
      },
      "source": [
        ""
      ],
      "execution_count": null,
      "outputs": []
    }
  ]
}