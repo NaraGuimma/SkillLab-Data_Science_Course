{
  "nbformat": 4,
  "nbformat_minor": 0,
  "metadata": {
    "colab": {
      "name": "Aula5-Estatística.ipynb",
      "provenance": [],
      "authorship_tag": "ABX9TyPg5xHqOsVMuBAI12pCMlUn",
      "include_colab_link": true
    },
    "kernelspec": {
      "name": "python3",
      "display_name": "Python 3"
    }
  },
  "cells": [
    {
      "cell_type": "markdown",
      "metadata": {
        "id": "view-in-github",
        "colab_type": "text"
      },
      "source": [
        "<a href=\"https://colab.research.google.com/github/NaraGuimma/SkillLab-Data_Science_Course/blob/main/Aula5_Estat%C3%ADstica.ipynb\" target=\"_parent\"><img src=\"https://colab.research.google.com/assets/colab-badge.svg\" alt=\"Open In Colab\"/></a>"
      ]
    },
    {
      "cell_type": "markdown",
      "metadata": {
        "id": "-82RAdamDzxZ"
      },
      "source": [
        "**Exemplo 1**"
      ]
    },
    {
      "cell_type": "code",
      "metadata": {
        "id": "J9NUUbjB-vu1"
      },
      "source": [
        "import numpy as np\n",
        "import matplotlib.pyplot as plt"
      ],
      "execution_count": null,
      "outputs": []
    },
    {
      "cell_type": "markdown",
      "metadata": {
        "id": "sWMcDH4PEJLG"
      },
      "source": [
        "Simulaçãão de uma populaçãão bimodal, com dois picos"
      ]
    },
    {
      "cell_type": "code",
      "metadata": {
        "id": "1T2PbOtXD_q3"
      },
      "source": [
        "N = 10000\n",
        "mu, sigma = 100, 20\n",
        "mu2, sigma2 = 10, 10"
      ],
      "execution_count": null,
      "outputs": []
    },
    {
      "cell_type": "markdown",
      "metadata": {
        "id": "BoAd3RsfE23k"
      },
      "source": [
        "Gerando valores aleatórios"
      ]
    },
    {
      "cell_type": "code",
      "metadata": {
        "id": "dLJ6gB7REHU2"
      },
      "source": [
        "X1 = np.random.normal(mu, sigma, N)\n",
        "X2 = np.random.normal(mu2, sigma2, N) "
      ],
      "execution_count": null,
      "outputs": []
    },
    {
      "cell_type": "code",
      "metadata": {
        "colab": {
          "base_uri": "https://localhost:8080/",
          "height": 265
        },
        "id": "s0L3AvknEWqW",
        "outputId": "c9fe8cc7-8f75-46d1-a2a1-1e3ff73ee3ff"
      },
      "source": [
        "X = np.concatenate([X1, X2])\n",
        "plt.hist(X, bins = 100)edit;"
      ],
      "execution_count": null,
      "outputs": [
        {
          "output_type": "display_data",
          "data": {
            "image/png": "[encoded data removed]",
            "text/plain": [
              "<Figure size 432x288 with 1 Axes>"
            ]
          },
          "metadata": {
            "tags": [],
            "needs_background": "light"
          }
        }
      ]
    },
    {
      "cell_type": "markdown",
      "metadata": {
        "id": "unI0IZsPFj_r"
      },
      "source": [
        "Fazendo uma amostragem aleatória"
      ]
    },
    {
      "cell_type": "code",
      "metadata": {
        "id": "vwkQAI2QEd3X"
      },
      "source": [
        "mean = []\n",
        "for i in range(20000):\n",
        "  mean.append(np.mean(np.random.choice(X, size = 10)))"
      ],
      "execution_count": null,
      "outputs": []
    },
    {
      "cell_type": "markdown",
      "metadata": {
        "id": "o0yOPgOjGE86"
      },
      "source": [
        "Criando um array numpy"
      ]
    },
    {
      "cell_type": "code",
      "metadata": {
        "colab": {
          "base_uri": "https://localhost:8080/",
          "height": 265
        },
        "id": "AZnhlOLaEu5H",
        "outputId": "84e4b8da-203c-4498-da8e-04f06c267094"
      },
      "source": [
        "means = np.array(mean)\n",
        "\n",
        "plt.hist(means, bins = 100);"
      ],
      "execution_count": null,
      "outputs": [
        {
          "output_type": "display_data",
          "data": {
            "image/png": "[encoded data removed]",
            "text/plain": [
              "<Figure size 432x288 with 1 Axes>"
            ]
          },
          "metadata": {
            "tags": [],
            "needs_background": "light"
          }
        }
      ]
    },
    {
      "cell_type": "code",
      "metadata": {
        "colab": {
          "base_uri": "https://localhost:8080/",
          "height": 265
        },
        "id": "e4B-b4_2FvQ1",
        "outputId": "87ae5384-4374-45dd-f716-4fb6ebe02944"
      },
      "source": [
        "bins = 100\n",
        "plt.hist(X, bins, alpha=.5, label='População')\n",
        "plt.hist(means, bins, alpha=.5, label='Médias')\n",
        "plt.legend(loc='upper right')\n",
        "plt.show();\n",
        "\n"
      ],
      "execution_count": null,
      "outputs": [
        {
          "output_type": "display_data",
          "data": {
            "image/png": "[encoded data removed]",
            "text/plain": [
              "<Figure size 432x288 with 1 Axes>"
            ]
          },
          "metadata": {
            "tags": [],
            "needs_background": "light"
          }
        }
      ]
    },
    {
      "cell_type": "code",
      "metadata": {
        "colab": {
          "base_uri": "https://localhost:8080/"
        },
        "id": "VWz16-FvGxp1",
        "outputId": "42b42fd7-4d96-4144-89fd-a7891f5c0053"
      },
      "source": [
        "import math\n",
        "a = math.sqrt(10)\n",
        "value = 15/a\n",
        "print('%.2f' % value)"
      ],
      "execution_count": 25,
      "outputs": [
        {
          "output_type": "stream",
          "text": [
            "4.74\n"
          ],
          "name": "stdout"
        }
      ]
    },
    {
      "cell_type": "code",
      "metadata": {
        "id": "oY9KEoVXMKYm"
      },
      "source": [
        "from scipy import stats"
      ],
      "execution_count": 26,
      "outputs": []
    },
    {
      "cell_type": "code",
      "metadata": {
        "id": "8A1nJqNihpah"
      },
      "source": [
        "alpha = .01"
      ],
      "execution_count": 27,
      "outputs": []
    },
    {
      "cell_type": "code",
      "metadata": {
        "colab": {
          "base_uri": "https://localhost:8080/"
        },
        "id": "x_54MQrmhr6Y",
        "outputId": "30936914-57c6-42a5-c253-2ea914689c72"
      },
      "source": [
        "z = stats.norm.ppf(alpha)\n",
        "print('%.3f' % z)"
      ],
      "execution_count": 31,
      "outputs": [
        {
          "output_type": "stream",
          "text": [
            "-2.326\n"
          ],
          "name": "stdout"
        }
      ]
    },
    {
      "cell_type": "code",
      "metadata": {
        "colab": {
          "base_uri": "https://localhost:8080/"
        },
        "id": "Z3WWzXNQhx7P",
        "outputId": "7b62d1e0-60c0-4105-da53-7cd9d85dd755"
      },
      "source": [
        "if (-2.259 < z):\n",
        "  print(\"Menor\")\n",
        "else:\n",
        "  print(\"Maior\")"
      ],
      "execution_count": 32,
      "outputs": [
        {
          "output_type": "stream",
          "text": [
            "Maior\n"
          ],
          "name": "stdout"
        }
      ]
    },
    {
      "cell_type": "code",
      "metadata": {
        "id": "al2atboBjEYc"
      },
      "source": [
        ""
      ],
      "execution_count": null,
      "outputs": []
    }
  ]
}