{
  "nbformat": 4,
  "nbformat_minor": 0,
  "metadata": {
    "colab": {
      "name": "Aula3-probabilidade.ipynb",
      "provenance": [],
      "authorship_tag": "ABX9TyNzafAnixTOYytW0CzMdPqV",
      "include_colab_link": true
    },
    "kernelspec": {
      "name": "python3",
      "display_name": "Python 3"
    }
  },
  "cells": [
    {
      "cell_type": "markdown",
      "metadata": {
        "id": "view-in-github",
        "colab_type": "text"
      },
      "source": [
        "<a href=\"https://colab.research.google.com/github/NaraGuimma/SkillLab-Data_Science_Course/blob/main/Aula3_probabilidade.ipynb\" target=\"_parent\"><img src=\"https://colab.research.google.com/assets/colab-badge.svg\" alt=\"Open In Colab\"/></a>"
      ]
    },
    {
      "cell_type": "code",
      "metadata": {
        "id": "AykO4UoOF48Q"
      },
      "source": [
        "from scipy.stats import poisson\r\n",
        "import matplotlib.pyplot as plt\r\n"
      ],
      "execution_count": 7,
      "outputs": []
    },
    {
      "cell_type": "code",
      "metadata": {
        "colab": {
          "base_uri": "https://localhost:8080/"
        },
        "id": "_Qy1h32bGN49",
        "outputId": "42858380-f099-4770-db4e-fd546e0b7d08"
      },
      "source": [
        "l = 8\r\n",
        "x = 4\r\n",
        "poisson.pmf(x, l)"
      ],
      "execution_count": 4,
      "outputs": [
        {
          "output_type": "execute_result",
          "data": {
            "text/plain": [
              "0.057252288495362"
            ]
          },
          "metadata": {
            "tags": []
          },
          "execution_count": 4
        }
      ]
    },
    {
      "cell_type": "code",
      "metadata": {
        "colab": {
          "base_uri": "https://localhost:8080/"
        },
        "id": "5uF73Rc-GkME",
        "outputId": "a8981986-cb6e-435c-86ea-5bae10ce411f"
      },
      "source": [
        "result = []\r\n",
        "for i in range(20):\r\n",
        "  result.append(poisson.pmf(i, l))\r\n",
        "result"
      ],
      "execution_count": 6,
      "outputs": [
        {
          "output_type": "execute_result",
          "data": {
            "text/plain": [
              "[0.00033546262790251185,\n",
              " 0.0026837010232200953,\n",
              " 0.010734804092880374,\n",
              " 0.028626144247680996,\n",
              " 0.057252288495362,\n",
              " 0.09160366159257921,\n",
              " 0.12213821545677205,\n",
              " 0.13958653195059664,\n",
              " 0.13958653195059664,\n",
              " 0.12407691728941919,\n",
              " 0.09926153383153544,\n",
              " 0.07219020642293475,\n",
              " 0.04812680428195653,\n",
              " 0.029616494942742554,\n",
              " 0.0169237113958528,\n",
              " 0.009025979411121507,\n",
              " 0.0045129897055607455,\n",
              " 0.002123759861440349,\n",
              " 0.0009438932717512675,\n",
              " 0.0003974287460005353]"
            ]
          },
          "metadata": {
            "tags": []
          },
          "execution_count": 6
        }
      ]
    },
    {
      "cell_type": "code",
      "metadata": {
        "colab": {
          "base_uri": "https://localhost:8080/",
          "height": 265
        },
        "id": "TDJCb6YGHfBC",
        "outputId": "9629d5cf-9d25-4cf4-8265-422b6b5ae515"
      },
      "source": [
        "plt.bar(range(len(result)), result);"
      ],
      "execution_count": 26,
      "outputs": [
        {
          "output_type": "display_data",
          "data": {
            "image/png": "[encoded data removed]",
            "text/plain": [
              "<Figure size 432x288 with 1 Axes>"
            ]
          },
          "metadata": {
            "tags": [],
            "needs_background": "light"
          }
        }
      ]
    },
    {
      "cell_type": "code",
      "metadata": {
        "colab": {
          "base_uri": "https://localhost:8080/",
          "height": 265
        },
        "id": "U81TtJpHfOXw",
        "outputId": "786fb84e-d370-4c8b-f15b-f9defcd17bba"
      },
      "source": [
        "plt.barh(range(len(result)), result);"
      ],
      "execution_count": 27,
      "outputs": [
        {
          "output_type": "display_data",
          "data": {
            "image/png": "[encoded data removed]",
            "text/plain": [
              "<Figure size 432x288 with 1 Axes>"
            ]
          },
          "metadata": {
            "tags": [],
            "needs_background": "light"
          }
        }
      ]
    },
    {
      "cell_type": "code",
      "metadata": {
        "colab": {
          "base_uri": "https://localhost:8080/"
        },
        "id": "ismgfO-UIhpV",
        "outputId": "38a414e9-c51f-4922-d12f-f35b1cf88079"
      },
      "source": [
        "soma = 0\r\n",
        "for i in range(3):\r\n",
        "  soma += poisson.pmf(i, l)\r\n",
        "soma"
      ],
      "execution_count": 24,
      "outputs": [
        {
          "output_type": "execute_result",
          "data": {
            "text/plain": [
              "0.013753967744002981"
            ]
          },
          "metadata": {
            "tags": []
          },
          "execution_count": 24
        }
      ]
    },
    {
      "cell_type": "code",
      "metadata": {
        "colab": {
          "base_uri": "https://localhost:8080/"
        },
        "id": "2YeLZ3MBK7C9",
        "outputId": "b077e37a-be81-48c8-d20d-cd970449d0ef"
      },
      "source": [
        "final = poisson.pmf(0,8) + poisson.pmf(1,8) + poisson.pmf(2,8) \r\n",
        "print(final)"
      ],
      "execution_count": 11,
      "outputs": [
        {
          "output_type": "stream",
          "text": [
            "0.013753967744002981\n"
          ],
          "name": "stdout"
        }
      ]
    },
    {
      "cell_type": "code",
      "metadata": {
        "colab": {
          "base_uri": "https://localhost:8080/"
        },
        "id": "ri78TiZHOWS_",
        "outputId": "a952bbf6-bd36-402f-cf00-0a837354bfdb"
      },
      "source": [
        "valorFinal = poisson.cdf(2,8)\r\n",
        "print(valorFinal)"
      ],
      "execution_count": 13,
      "outputs": [
        {
          "output_type": "stream",
          "text": [
            "0.013753967744002971\n"
          ],
          "name": "stdout"
        }
      ]
    },
    {
      "cell_type": "code",
      "metadata": {
        "colab": {
          "base_uri": "https://localhost:8080/"
        },
        "id": "XgS1ri5xO2zX",
        "outputId": "e7030279-2e06-403b-85b5-68a13cfca639"
      },
      "source": [
        "print(poisson.pmf(0, 2/3))"
      ],
      "execution_count": 14,
      "outputs": [
        {
          "output_type": "stream",
          "text": [
            "0.513417119032592\n"
          ],
          "name": "stdout"
        }
      ]
    },
    {
      "cell_type": "code",
      "metadata": {
        "id": "YIFL9dB0YUMS"
      },
      "source": [
        ""
      ],
      "execution_count": null,
      "outputs": []
    }
  ]
}